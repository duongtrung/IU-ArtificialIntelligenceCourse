{
 "cells": [
  {
   "cell_type": "markdown",
   "metadata": {},
   "source": [
    "## Stemming:"
   ]
  },
  {
   "cell_type": "code",
   "execution_count": 1,
   "metadata": {
    "tags": []
   },
   "outputs": [],
   "source": [
    "import nltk"
   ]
  },
  {
   "cell_type": "code",
   "execution_count": 2,
   "metadata": {
    "tags": []
   },
   "outputs": [],
   "source": [
    "from nltk import PorterStemmer, LancasterStemmer, SnowballStemmer"
   ]
  },
  {
   "cell_type": "code",
   "execution_count": 34,
   "metadata": {
    "tags": []
   },
   "outputs": [],
   "source": [
    "def words_stemmer(words, type=\"PorterStemmer\", lang=\"english\", encoding=\"utf8\"):\n",
    "    stemmers = [\"PorterStemmer\", \"LancasterStemmer\", \"SnowballStemmer\"]\n",
    "    if type is False or type not in stemmers:\n",
    "        return words\n",
    "    else:\n",
    "        stem_words = []\n",
    "        if type == \"PorterStemmer\":\n",
    "            stemmer = PorterStemmer()\n",
    "            for w in words:\n",
    "                stem_words.append(stemmer.stem(w).encode(encoding))\n",
    "        if type == \"LancasterStemmer\":\n",
    "            stemmer = LancasterStemmer()\n",
    "            for w in words:\n",
    "                stem_words.append(stemmer.stem(w).encode(encoding))\n",
    "        if type == \"SnowballStemmer\":\n",
    "            stemmer = SnowballStemmer(lang)\n",
    "            for w in words:\n",
    "                stem_words.append(stemmer.stem(w).encode(encoding))\n",
    "    return b\" \".join(stem_words)        "
   ]
  },
  {
   "cell_type": "code",
   "execution_count": 35,
   "metadata": {
    "tags": []
   },
   "outputs": [],
   "source": [
    "words = \"caring cares carefully cared\""
   ]
  },
  {
   "cell_type": "code",
   "execution_count": 37,
   "metadata": {},
   "outputs": [
    {
     "name": "stdout",
     "output_type": "stream",
     "text": [
      "Original: caring cares carefully cared\n",
      "Porter:  b'care care care care'\n",
      "Lancaster:  b'car car car car'\n",
      "Snowball:  b'care care care care'\n"
     ]
    }
   ],
   "source": [
    "print(\"Original:\", words)\n",
    "print(\"Porter: \", words_stemmer(nltk.word_tokenize(words), \"PorterStemmer\"))\n",
    "print(\"Lancaster: \", words_stemmer(nltk.word_tokenize(words), \"LancasterStemmer\"))\n",
    "print(\"Snowball: \", words_stemmer(nltk.word_tokenize(words), \"SnowballStemmer\"))"
   ]
  },
  {
   "cell_type": "markdown",
   "metadata": {},
   "source": [
    "## Lemmatization:"
   ]
  },
  {
   "cell_type": "code",
   "execution_count": 38,
   "metadata": {},
   "outputs": [],
   "source": [
    "from nltk.stem import WordNetLemmatizer"
   ]
  },
  {
   "cell_type": "code",
   "execution_count": 39,
   "metadata": {
    "tags": []
   },
   "outputs": [],
   "source": [
    "wlem = WordNetLemmatizer()"
   ]
  },
  {
   "cell_type": "code",
   "execution_count": 44,
   "metadata": {
    "tags": []
   },
   "outputs": [],
   "source": [
    "#Function to apply lemmatization to list of words\n",
    "def words_lemmatizer(text, encoding=\"utf8\"):\n",
    "    words = nltk.word_tokenize(text)\n",
    "    lemma_words = []\n",
    "    wl = WordNetLemmatizer()\n",
    "    for w in words:\n",
    "        pos = find_pos(w)\n",
    "        lemma_words.append(wl.lemmatize(w, pos).encode(encoding))\n",
    "    return b\" \".join(lemma_words)    "
   ]
  },
  {
   "cell_type": "code",
   "execution_count": 45,
   "metadata": {
    "tags": []
   },
   "outputs": [],
   "source": [
    "#n    NOUN \n",
    "#v    VERB \n",
    "#a    ADJECTIVE \n",
    "#s    ADJECTIVE SATELLITE \n",
    "#r    ADVERB "
   ]
  },
  {
   "cell_type": "code",
   "execution_count": 46,
   "metadata": {
    "tags": []
   },
   "outputs": [],
   "source": [
    "def find_pos(word):\n",
    "    #part of speech constants\n",
    "    pos = nltk.pos_tag(nltk.word_tokenize(word))[0][1]\n",
    "    # Adjective tags : \"JJ\", \"JJR\", \"JJS\"\n",
    "    if pos.lower()[0] == 'j':\n",
    "        return 'a'\n",
    "    # Adverb tags : \"RB\", \"RBR\", \"RBS\"\n",
    "    elif pos.lower()[0] == 'r':\n",
    "        return 'r'\n",
    "    # Verb tags: \"VB\", \"VBD\", \"VBG\", \"VBN\", \"VBP\", \"VBZ\"\n",
    "    elif pos.lower()[0] == 'v':\n",
    "        return 'v'\n",
    "    # Noun tags: \"NN\", \"NNS\", \"NNP\", \"NNPS\"\n",
    "    else:\n",
    "        return 'n'"
   ]
  },
  {
   "cell_type": "code",
   "execution_count": 47,
   "metadata": {},
   "outputs": [
    {
     "name": "stdout",
     "output_type": "stream",
     "text": [
      "Lemmatized:  b'care care carefully care'\n"
     ]
    }
   ],
   "source": [
    "print(\"Lemmatized: \", words_lemmatizer(words))"
   ]
  },
  {
   "cell_type": "markdown",
   "metadata": {},
   "source": [
    "### Getting synonyms and antonyms for a given word with wordnet"
   ]
  },
  {
   "cell_type": "code",
   "execution_count": 48,
   "metadata": {
    "tags": []
   },
   "outputs": [],
   "source": [
    "# Wordnet is a large lexical database for English words that are linked together\n",
    "# by their semantic relationships. \n",
    "# It groups words together based on their meanings."
   ]
  },
  {
   "cell_type": "code",
   "execution_count": 49,
   "metadata": {
    "tags": []
   },
   "outputs": [],
   "source": [
    "from nltk.corpus import wordnet"
   ]
  },
  {
   "cell_type": "code",
   "execution_count": 50,
   "metadata": {},
   "outputs": [
    {
     "name": "stdout",
     "output_type": "stream",
     "text": [
      "Definition:  meant or adapted for an occasion or use\n",
      "Example:  ['a tractor suitable (or fit) for heavy duty', 'not an appropriate (or fit) time for flippancy']\n"
     ]
    }
   ],
   "source": [
    "s = wordnet.synsets(\"suitable\")\n",
    "print(\"Definition: \", s[0].definition())\n",
    "print(\"Example: \", s[0].examples())"
   ]
  },
  {
   "cell_type": "code",
   "execution_count": 51,
   "metadata": {},
   "outputs": [
    {
     "name": "stdout",
     "output_type": "stream",
     "text": [
      "synonyms: \n",
      " {'honest', 'dependable', 'skillful', 'skilful', 'full', 'punter', 'ameliorate', 'salutary', 'considerably', 'sound', 'respectable', 'substantially', 'serious', 'unspoiled', 'break', 'honorable', 'comfortably', 'undecomposed', 'adept', 'ripe', 'upright', 'improve', 'near', 'estimable', 'unspoilt', 'meliorate', 'well', 'expert', 'best', 'right', 'dear', 'safe', 'effective', 'bettor', 'proficient', 'secure', 'advantageously', 'in_force', 'practiced', 'intimately', 'better', 'wagerer', 'just', 'easily', 'beneficial', 'in_effect', 'amend', 'good'}\n",
      "antonyms: \n",
      " {'badly', 'worse', 'disadvantageously', 'ill', 'bad', 'evil', 'worsen'}\n"
     ]
    }
   ],
   "source": [
    "synonyms = []\n",
    "antonyms = []\n",
    "for s in wordnet.synsets(\"better\"):\n",
    "    for l in s.lemmas():\n",
    "        synonyms.append(l.name())\n",
    "        if l.antonyms():\n",
    "            antonyms.append(l.antonyms()[0].name())\n",
    "\n",
    "print(\"synonyms: \\n\", set(synonyms))\n",
    "print(\"antonyms: \\n\", set(antonyms))"
   ]
  },
  {
   "cell_type": "markdown",
   "metadata": {},
   "source": [
    "## References:\n",
    "\n",
    "http://www.nltk.org/api/nltk.stem.html\n",
    "\n",
    "http://en.wikipedia.org/wiki/Stemming\n",
    "\n",
    "https://wordnet.princeton.edu/wordnet/man/wndb.5WN.html#sect3\n",
    "\n",
    "http://www.nltk.org/howto/wordnet.html"
   ]
  },
  {
   "cell_type": "code",
   "execution_count": null,
   "metadata": {},
   "outputs": [],
   "source": []
  }
 ],
 "metadata": {
  "kernelspec": {
   "display_name": "Python 3 (ipykernel)",
   "language": "python",
   "name": "python3"
  },
  "language_info": {
   "codemirror_mode": {
    "name": "ipython",
    "version": 3
   },
   "file_extension": ".py",
   "mimetype": "text/x-python",
   "name": "python",
   "nbconvert_exporter": "python",
   "pygments_lexer": "ipython3",
   "version": "3.9.13"
  }
 },
 "nbformat": 4,
 "nbformat_minor": 4
}
