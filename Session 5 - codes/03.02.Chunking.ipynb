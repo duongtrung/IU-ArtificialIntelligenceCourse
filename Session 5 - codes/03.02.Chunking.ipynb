{
 "cells": [
  {
   "cell_type": "code",
   "execution_count": 1,
   "metadata": {
    "tags": []
   },
   "outputs": [],
   "source": [
    "#Chuncking is shallow parsing where instead of reaching out to the deep structure\n",
    "#of the sentence, we try to club some chunks of the sentences that constitute\n",
    "#some meaning.\n",
    "# A chunk can be defined as the minimal unit that can be processed."
   ]
  },
  {
   "cell_type": "code",
   "execution_count": 1,
   "metadata": {
    "tags": []
   },
   "outputs": [],
   "source": [
    "import nltk\n",
    "from nltk.chunk.regexp import *"
   ]
  },
  {
   "cell_type": "code",
   "execution_count": 2,
   "metadata": {
    "tags": []
   },
   "outputs": [],
   "source": [
    "test=\"The manager announced he had asked the supervisor, Matias Riddick, to call a special party room meeting for 10am on Tuesday to consider the spill motion\""
   ]
  },
  {
   "cell_type": "code",
   "execution_count": 8,
   "metadata": {},
   "outputs": [],
   "source": [
    "# download neccessary package\n",
    "# nltk.download('punkt')"
   ]
  },
  {
   "cell_type": "code",
   "execution_count": 9,
   "metadata": {},
   "outputs": [],
   "source": [
    "# download neccessary package\n",
    "# nltk.download('averaged_perceptron_tagger')"
   ]
  },
  {
   "cell_type": "code",
   "execution_count": 10,
   "metadata": {
    "tags": []
   },
   "outputs": [],
   "source": [
    "test_sent_pos=nltk.pos_tag(nltk.word_tokenize(test))"
   ]
  },
  {
   "cell_type": "code",
   "execution_count": 11,
   "metadata": {
    "tags": []
   },
   "outputs": [],
   "source": [
    "# NP : Noun phrase\n",
    "# VP : Verb phrase"
   ]
  },
  {
   "cell_type": "code",
   "execution_count": 12,
   "metadata": {
    "tags": []
   },
   "outputs": [],
   "source": [
    "rule_vp = ChunkRule(r'(<VB.*>)?(<VB.*>)+(<PRP>)?','Chunk VPs')"
   ]
  },
  {
   "cell_type": "code",
   "execution_count": 13,
   "metadata": {
    "tags": []
   },
   "outputs": [],
   "source": [
    "parser = RegexpChunkParser([rule_vp],chunk_label='VP')"
   ]
  },
  {
   "cell_type": "code",
   "execution_count": 14,
   "metadata": {},
   "outputs": [
    {
     "name": "stdout",
     "output_type": "stream",
     "text": [
      "(S\n",
      "  The/DT\n",
      "  manager/NN\n",
      "  (VP announced/VBD he/PRP)\n",
      "  (VP had/VBD asked/VBN)\n",
      "  the/DT\n",
      "  supervisor/NN\n",
      "  ,/,\n",
      "  Matias/NNP\n",
      "  Riddick/NNP\n",
      "  ,/,\n",
      "  to/TO\n",
      "  (VP call/VB)\n",
      "  a/DT\n",
      "  special/JJ\n",
      "  party/NN\n",
      "  room/NN\n",
      "  meeting/NN\n",
      "  for/IN\n",
      "  10am/CD\n",
      "  on/IN\n",
      "  Tuesday/NNP\n",
      "  to/TO\n",
      "  (VP consider/VB)\n",
      "  the/DT\n",
      "  spill/NN\n",
      "  motion/NN)\n"
     ]
    }
   ],
   "source": [
    "print(parser.parse(test_sent_pos))"
   ]
  },
  {
   "cell_type": "code",
   "execution_count": 15,
   "metadata": {
    "tags": []
   },
   "outputs": [],
   "source": [
    "rule_np = ChunkRule(r'(<DT>?<RB>?)?<JJ|CD>*(<JJ|CD><,>)*(<NN.*>)+','Chunk NPs')"
   ]
  },
  {
   "cell_type": "code",
   "execution_count": 16,
   "metadata": {
    "tags": []
   },
   "outputs": [],
   "source": [
    "parser_np = RegexpChunkParser([rule_np],chunk_label='NP')"
   ]
  },
  {
   "cell_type": "code",
   "execution_count": 17,
   "metadata": {},
   "outputs": [
    {
     "name": "stdout",
     "output_type": "stream",
     "text": [
      "(S\n",
      "  (NP The/DT manager/NN)\n",
      "  announced/VBD\n",
      "  he/PRP\n",
      "  had/VBD\n",
      "  asked/VBN\n",
      "  (NP the/DT supervisor/NN)\n",
      "  ,/,\n",
      "  (NP Matias/NNP Riddick/NNP)\n",
      "  ,/,\n",
      "  to/TO\n",
      "  call/VB\n",
      "  (NP a/DT special/JJ party/NN room/NN meeting/NN)\n",
      "  for/IN\n",
      "  10am/CD\n",
      "  on/IN\n",
      "  (NP Tuesday/NNP)\n",
      "  to/TO\n",
      "  consider/VB\n",
      "  (NP the/DT spill/NN motion/NN))\n"
     ]
    }
   ],
   "source": [
    "print(parser_np.parse(test_sent_pos))"
   ]
  },
  {
   "cell_type": "markdown",
   "metadata": {},
   "source": [
    "## Reference: \n",
    "\n",
    "http://www.nltk.org/book/ch07.html"
   ]
  },
  {
   "cell_type": "code",
   "execution_count": null,
   "metadata": {},
   "outputs": [],
   "source": []
  }
 ],
 "metadata": {
  "kernelspec": {
   "display_name": "Python 3 (ipykernel)",
   "language": "python",
   "name": "python3"
  },
  "language_info": {
   "codemirror_mode": {
    "name": "ipython",
    "version": 3
   },
   "file_extension": ".py",
   "mimetype": "text/x-python",
   "name": "python",
   "nbconvert_exporter": "python",
   "pygments_lexer": "ipython3",
   "version": "3.9.13"
  }
 },
 "nbformat": 4,
 "nbformat_minor": 4
}
