{
 "cells": [
  {
   "cell_type": "markdown",
   "id": "b685f2d5-016f-474d-a2fd-dca1ffd136aa",
   "metadata": {},
   "source": [
    "### The following brief instructions will help you prepare the coding environment for the course."
   ]
  },
  {
   "cell_type": "markdown",
   "id": "f52e2c3f-9481-4469-9fd5-c58424a92dd6",
   "metadata": {},
   "source": [
    "1. Install Anaconda Python: https://www.anaconda.com/products/distribution\n",
    "2. (Optional) Create Conda Environment: https://conda.io/projects/conda/en/latest/user-guide/getting-started.html\n",
    "3. Install packages:\n",
    "    1. conda install -c anaconda gensim\n",
    "    2. conda install -c anaconda nltk\n",
    "    3. conda install -c conda-forge wordcloud\n",
    "    4. conda install -c conda-forge tweepy\n",
    "    5. conda install -c conda-forge wikipedia\n",
    "    6. conda install -c anaconda beautifulsoup4\n",
    "    7. conda install -c anaconda lxml\n",
    "    8. conda install -c anaconda html5lib\n",
    "    9. conda install -c anaconda graphviz\n",
    "    10. conda install -c anaconda pydotplus"
   ]
  },
  {
   "cell_type": "code",
   "execution_count": null,
   "id": "089056f1-7dda-40cb-b80a-3e4389dbb849",
   "metadata": {},
   "outputs": [
    {
     "name": "stdout",
     "output_type": "stream",
     "text": [
      "showing info https://raw.githubusercontent.com/nltk/nltk_data/gh-pages/index.xml\n"
     ]
    }
   ],
   "source": [
    "import nltk\n",
    "nltk.download()"
   ]
  },
  {
   "cell_type": "markdown",
   "id": "cd5e91be-5d42-4deb-a249-bac4d975d216",
   "metadata": {},
   "source": [
    "from IPython.display import Image\n",
    "Image(filename='nltk_download.png')"
   ]
  }
 ],
 "metadata": {
  "kernelspec": {
   "display_name": "Python 3 (ipykernel)",
   "language": "python",
   "name": "python3"
  },
  "language_info": {
   "codemirror_mode": {
    "name": "ipython",
    "version": 3
   },
   "file_extension": ".py",
   "mimetype": "text/x-python",
   "name": "python",
   "nbconvert_exporter": "python",
   "pygments_lexer": "ipython3",
   "version": "3.9.13"
  }
 },
 "nbformat": 4,
 "nbformat_minor": 5
}
