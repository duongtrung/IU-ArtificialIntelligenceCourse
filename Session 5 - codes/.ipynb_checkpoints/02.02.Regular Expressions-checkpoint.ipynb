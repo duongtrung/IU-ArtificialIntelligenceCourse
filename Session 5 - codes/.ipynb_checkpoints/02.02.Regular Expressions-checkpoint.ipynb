{
 "cells": [
  {
   "cell_type": "markdown",
   "metadata": {
    "collapsed": true
   },
   "source": [
    "<img src=\"../Pics/MLSb-T.png\" width=\"160\">\n",
    "<br><br>\n",
    "<center><u><H1>Regular Expressions</H1></u></center>"
   ]
  },
  {
   "cell_type": "code",
   "execution_count": null,
   "metadata": {
    "collapsed": true
   },
   "outputs": [],
   "source": [
    "import re"
   ]
  },
  {
   "cell_type": "markdown",
   "metadata": {},
   "source": [
    "## Matching and Searching for Text Patterns"
   ]
  },
  {
   "cell_type": "code",
   "execution_count": null,
   "metadata": {
    "collapsed": true
   },
   "outputs": [],
   "source": [
    "#match checks for a match only at the beginning of the string, while search checks for a match anywhere in the string"
   ]
  },
  {
   "cell_type": "code",
   "execution_count": null,
   "metadata": {
    "collapsed": true
   },
   "outputs": [],
   "source": [
    "txt = \"The Universe is so big! and the time is so old!!\""
   ]
  },
  {
   "cell_type": "code",
   "execution_count": null,
   "metadata": {},
   "outputs": [],
   "source": [
    "txt.startswith('Universe')"
   ]
  },
  {
   "cell_type": "code",
   "execution_count": null,
   "metadata": {},
   "outputs": [],
   "source": [
    "txt.endswith('old!!')"
   ]
  },
  {
   "cell_type": "code",
   "execution_count": null,
   "metadata": {},
   "outputs": [],
   "source": [
    "#re.search(pattern, string, flags=0)\n",
    "if re.search('the',txt):\n",
    "    print(\"I found the word the\")\n",
    "else:\n",
    "    print(\"I didnt found coincidences\")"
   ]
  },
  {
   "cell_type": "code",
   "execution_count": null,
   "metadata": {},
   "outputs": [],
   "source": [
    "#match objects\n",
    "# r is for raw text and do not interpret the \\ character as an escape character\n",
    "match = re.search(r'is', txt)\n",
    "match.group()"
   ]
  },
  {
   "cell_type": "code",
   "execution_count": null,
   "metadata": {},
   "outputs": [],
   "source": [
    "# finding more than one match\n",
    "print(re.findall(\"!\",txt))"
   ]
  },
  {
   "cell_type": "code",
   "execution_count": null,
   "metadata": {},
   "outputs": [],
   "source": [
    "#The regular expression[Tt] will match either The or the.\n",
    "print(re.findall(r'[Tt]he',txt)) # matches a set of characters within the brackets."
   ]
  },
  {
   "cell_type": "code",
   "execution_count": null,
   "metadata": {},
   "outputs": [],
   "source": [
    "#using match function\n",
    "match_=re.match( r'[Tt]he', txt, re.M|re.I)\n",
    "match_.group()"
   ]
  },
  {
   "cell_type": "code",
   "execution_count": null,
   "metadata": {},
   "outputs": [],
   "source": [
    "match_=re.search( r'universe', txt, re.I)\n",
    "if match_:\n",
    "    print(match_.group())\n",
    "else:\n",
    "    print(\"I didnt found coincidences\")"
   ]
  },
  {
   "cell_type": "code",
   "execution_count": null,
   "metadata": {},
   "outputs": [],
   "source": [
    "txt1 = 'My mobile number is 800-1-456217'\n",
    "print(re.findall(\"\\d\",txt1)) #matches any decimal digit[0-9]"
   ]
  },
  {
   "cell_type": "code",
   "execution_count": null,
   "metadata": {},
   "outputs": [],
   "source": [
    "print(re.findall(\"\\S\",txt1)) #matches any decimal digit[0-9]"
   ]
  },
  {
   "cell_type": "code",
   "execution_count": null,
   "metadata": {},
   "outputs": [],
   "source": [
    "txt2 = \"Cars are very useful and my Car is very fast\"\n",
    "print(re.findall(\"Car?\",txt2)) "
   ]
  },
  {
   "cell_type": "code",
   "execution_count": null,
   "metadata": {},
   "outputs": [],
   "source": [
    "print(re.findall(\"Cars|Car\",txt2))"
   ]
  },
  {
   "cell_type": "code",
   "execution_count": null,
   "metadata": {},
   "outputs": [],
   "source": [
    "#\"Python\" followed by one or more ! or one ?\n",
    "txt3 = 'Python!, python!!!!, Python??, PYTHON?????'\n",
    "print(re.findall(\"Python(!+|\\?)\",txt3, flags=re.IGNORECASE))"
   ]
  },
  {
   "cell_type": "markdown",
   "metadata": {},
   "source": [
    "## Search and replace:"
   ]
  },
  {
   "cell_type": "code",
   "execution_count": null,
   "metadata": {},
   "outputs": [],
   "source": [
    "#re.sub(pattern, repl, string, max=0)\n",
    "phone = \"2004-959-559 # This is my phone number\"\n",
    "\n",
    "# Delete Python comments\n",
    "number = re.sub(r'#.*$', \"\", phone)\n",
    "print \"Phone Number : \", number"
   ]
  },
  {
   "cell_type": "code",
   "execution_count": null,
   "metadata": {},
   "outputs": [],
   "source": [
    "# Remove anything other than digits\n",
    "number = re.sub(r'\\D', \"\", phone)    \n",
    "print \"Phone Number : \", number"
   ]
  },
  {
   "cell_type": "markdown",
   "metadata": {},
   "source": [
    "## Searching and Replacing Case-Insensitive text"
   ]
  },
  {
   "cell_type": "code",
   "execution_count": null,
   "metadata": {},
   "outputs": [],
   "source": [
    "text4 = 'BLACK HAT PYTHON, advance python, deep Python'\n",
    "re.findall('python', text4, flags=re.IGNORECASE)"
   ]
  },
  {
   "cell_type": "code",
   "execution_count": null,
   "metadata": {},
   "outputs": [],
   "source": [
    "re.sub('python', 'NLTK',text4, flags=re.IGNORECASE)"
   ]
  },
  {
   "cell_type": "markdown",
   "metadata": {},
   "source": [
    "## Reference:\n",
    "\n",
    "https://en.wikipedia.org/wiki/Regular_expression\n",
    "\n",
    "https://docs.python.org/2/library/re.html\n",
    "\n",
    "https://docs.python.org/2/howto/regex.html"
   ]
  }
 ],
 "metadata": {
  "kernelspec": {
   "display_name": "Python [conda root]",
   "language": "python",
   "name": "conda-root-py"
  },
  "language_info": {
   "codemirror_mode": {
    "name": "ipython",
    "version": 2
   },
   "file_extension": ".py",
   "mimetype": "text/x-python",
   "name": "python",
   "nbconvert_exporter": "python",
   "pygments_lexer": "ipython2",
   "version": "2.7.13"
  }
 },
 "nbformat": 4,
 "nbformat_minor": 2
}
