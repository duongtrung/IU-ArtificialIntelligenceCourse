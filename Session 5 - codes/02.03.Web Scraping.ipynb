{
 "cells": [
  {
   "cell_type": "markdown",
   "metadata": {},
   "source": [
    "<img src=\"../Pics/MLSb-T.png\" width=\"160\">\n",
    "<br><br>\n",
    "<center><u><H1>Web Scraping</H1></u></center>"
   ]
  },
  {
   "cell_type": "markdown",
   "metadata": {},
   "source": [
    "## Install instructions:\n",
    "### - pip install beautifulsoup4\n",
    "### - pip install lxml\n",
    "### - pip install html5lib"
   ]
  },
  {
   "cell_type": "code",
   "execution_count": 1,
   "metadata": {
    "collapsed": true
   },
   "outputs": [],
   "source": [
    "import urllib2\n",
    "import re"
   ]
  },
  {
   "cell_type": "code",
   "execution_count": 2,
   "metadata": {
    "collapsed": true
   },
   "outputs": [],
   "source": [
    "# https://www.crummy.com/software/BeautifulSoup/bs4/doc/"
   ]
  },
  {
   "cell_type": "code",
   "execution_count": 3,
   "metadata": {},
   "outputs": [],
   "source": [
    "web = urllib2.urlopen('https://www.crummy.com/software/BeautifulSoup/bs4/doc/')"
   ]
  },
  {
   "cell_type": "code",
   "execution_count": 4,
   "metadata": {},
   "outputs": [],
   "source": [
    "html = web.read()"
   ]
  },
  {
   "cell_type": "code",
   "execution_count": 5,
   "metadata": {},
   "outputs": [
    {
     "name": "stdout",
     "output_type": "stream",
     "text": [
      "280799\n"
     ]
    }
   ],
   "source": [
    "print(len(html))"
   ]
  },
  {
   "cell_type": "code",
   "execution_count": 6,
   "metadata": {
    "collapsed": true
   },
   "outputs": [],
   "source": [
    "#Let's start an exploratory data analysis cleaning the html tags.\n",
    "#Splitting the string. \n",
    "tokens = [t for t in html.split()]"
   ]
  },
  {
   "cell_type": "code",
   "execution_count": 7,
   "metadata": {},
   "outputs": [
    {
     "name": "stdout",
     "output_type": "stream",
     "text": [
      "Total number of tokens:21342\n"
     ]
    }
   ],
   "source": [
    "print(\"Total number of tokens:\" + str(len(tokens)))"
   ]
  },
  {
   "cell_type": "code",
   "execution_count": 8,
   "metadata": {},
   "outputs": [
    {
     "name": "stdout",
     "output_type": "stream",
     "text": [
      "['<!DOCTYPE', 'html', 'PUBLIC', '\"-//W3C//DTD', 'XHTML', '1.0', 'Transitional//EN\"', '\"http://www.w3.org/TR/xhtml1/DTD/xhtml1-transitional.dtd\">', '<html', 'xmlns=\"http://www.w3.org/1999/xhtml\">', '<head>', '<meta', 'http-equiv=\"Content-Type\"', 'content=\"text/html;', 'charset=utf-8\"', '/>', '<title>Beautiful', 'Soup', 'Documentation', '&mdash;', 'Beautiful', 'Soup', '4.4.0', 'documentation</title>', '<link', 'rel=\"stylesheet\"', 'href=\"_static/classic.css\"', 'type=\"text/css\"', '/>', '<link', 'rel=\"stylesheet\"', 'href=\"_static/pygments.css\"', 'type=\"text/css\"', '/>', '<script', 'type=\"text/javascript\">', 'var', 'DOCUMENTATION_OPTIONS', '=', '{', 'URL_ROOT:', \"'./',\", 'VERSION:', \"'4.4.0',\", 'COLLAPSE_INDEX:', 'false,', 'FILE_SUFFIX:', \"'.html',\", 'HAS_SOURCE:', 'true', '};', '</script>', '<script', 'type=\"text/javascript\"', 'src=\"_static/jquery.js\"></script>', '<script', 'type=\"text/javascript\"', 'src=\"_static/underscore.js\"></script>', '<script', 'type=\"text/javascript\"', 'src=\"_static/doctools.js\"></script>', '<link', 'rel=\"top\"', 'title=\"Beautiful', 'Soup', '4.4.0', 'documentation\"', 'href=\"#\"', '/>', '</head>', '<body', 'role=\"document\">', '<div', 'class=\"related\"', 'role=\"navigation\"', 'aria-label=\"related', 'navigation\">', '<h3>Navigation</h3>', '<ul>', '<li', 'class=\"right\"', 'style=\"margin-right:', '10px\">', '<a', 'href=\"genindex.html\"', 'title=\"General', 'Index\"', 'accesskey=\"I\">index</a></li>', '<li', 'class=\"nav-item', 'nav-item-0\"><a', 'href=\"#\">Beautiful', 'Soup', '4.4.0', 'documentation</a>', '&raquo;</li>', '</ul>', '</div>', '<div', 'class=\"document\">']\n"
     ]
    }
   ],
   "source": [
    "print(tokens[:100])"
   ]
  },
  {
   "cell_type": "code",
   "execution_count": 9,
   "metadata": {},
   "outputs": [
    {
     "name": "stdout",
     "output_type": "stream",
     "text": [
      "46615\n"
     ]
    }
   ],
   "source": [
    "#A cleaner version using a regular expression:\n",
    "tokens = re.split('\\W+', html) # matches any non-word character\n",
    "print(len(tokens))"
   ]
  },
  {
   "cell_type": "code",
   "execution_count": 10,
   "metadata": {},
   "outputs": [
    {
     "name": "stdout",
     "output_type": "stream",
     "text": [
      "['', 'DOCTYPE', 'html', 'PUBLIC', 'W3C', 'DTD', 'XHTML', '1', '0', 'Transitional', 'EN', 'http', 'www', 'w3', 'org', 'TR', 'xhtml1', 'DTD', 'xhtml1', 'transitional', 'dtd', 'html', 'xmlns', 'http', 'www', 'w3', 'org', '1999', 'xhtml', 'head', 'meta', 'http', 'equiv', 'Content', 'Type', 'content', 'text', 'html', 'charset', 'utf', '8', 'title', 'Beautiful', 'Soup', 'Documentation', 'mdash', 'Beautiful', 'Soup', '4', '4', '0', 'documentation', 'title', 'link', 'rel', 'stylesheet', 'href', '_static', 'classic', 'css', 'type', 'text', 'css', 'link', 'rel', 'stylesheet', 'href', '_static', 'pygments', 'css', 'type', 'text', 'css', 'script', 'type', 'text', 'javascript', 'var', 'DOCUMENTATION_OPTIONS', 'URL_ROOT', 'VERSION', '4', '4', '0', 'COLLAPSE_INDEX', 'false', 'FILE_SUFFIX', 'html', 'HAS_SOURCE', 'true', 'script', 'script', 'type', 'text', 'javascript', 'src', '_static', 'jquery', 'js', 'script']\n"
     ]
    }
   ],
   "source": [
    "print(tokens[:100])"
   ]
  },
  {
   "cell_type": "code",
   "execution_count": 11,
   "metadata": {
    "collapsed": true
   },
   "outputs": [],
   "source": [
    "#Now let's see the power of nltk\n",
    "import nltk\n",
    "from bs4 import BeautifulSoup"
   ]
  },
  {
   "cell_type": "code",
   "execution_count": 12,
   "metadata": {},
   "outputs": [],
   "source": [
    "#clean will have entire string removing all html tags\n",
    "soup = BeautifulSoup(html,'html.parser')\n",
    "text = soup.get_text()"
   ]
  },
  {
   "cell_type": "code",
   "execution_count": 13,
   "metadata": {},
   "outputs": [
    {
     "name": "stdout",
     "output_type": "stream",
     "text": [
      "[u'Beautiful', u'Soup', u'Documentation', u'\\u2014', u'Beautiful', u'Soup', u'4.4.0', u'documentation', u'var', u'DOCUMENTATION_OPTIONS', u'=', u'{', u'URL_ROOT:', u\"'./',\", u'VERSION:', u\"'4.4.0',\", u'COLLAPSE_INDEX:', u'false,', u'FILE_SUFFIX:', u\"'.html',\", u'HAS_SOURCE:', u'true', u'};', u'Navigation', u'index', u'Beautiful', u'Soup', u'4.4.0', u'documentation', u'\\xbb', u'Beautiful', u'Soup', u'Documentation\\xb6', u'Beautiful', u'Soup', u'is', u'a', u'Python', u'library', u'for', u'pulling', u'data', u'out', u'of', u'HTML', u'and', u'XML', u'files.', u'It', u'works', u'with', u'your', u'favorite', u'parser', u'to', u'provide', u'idiomatic', u'ways', u'of', u'navigating,', u'searching,', u'and', u'modifying', u'the', u'parse', u'tree.', u'It', u'commonly', u'saves', u'programmers', u'hours', u'or', u'days', u'of', u'work.', u'These', u'instructions', u'illustrate', u'all', u'major', u'features', u'of', u'Beautiful', u'Soup', u'4,', u'with', u'examples.', u'I', u'show', u'you', u'what', u'the', u'library', u'is', u'good', u'for,', u'how', u'it', u'works,', u'how']\n"
     ]
    }
   ],
   "source": [
    "tokens = [t for t in text.split()]\n",
    "print(tokens[:100])"
   ]
  },
  {
   "cell_type": "markdown",
   "metadata": {},
   "source": [
    "## Calculating the frequency distribution"
   ]
  },
  {
   "cell_type": "code",
   "execution_count": 14,
   "metadata": {},
   "outputs": [],
   "source": [
    "import operator"
   ]
  },
  {
   "cell_type": "code",
   "execution_count": 16,
   "metadata": {
    "collapsed": true
   },
   "outputs": [],
   "source": [
    "freq={}\n",
    "for i in tokens:\n",
    "    if i in freq:\n",
    "        freq[i] += 1\n",
    "    else:\n",
    "        freq[i] = 1"
   ]
  },
  {
   "cell_type": "code",
   "execution_count": 18,
   "metadata": {},
   "outputs": [],
   "source": [
    "#sorting the dictionary of values:\n",
    "sorted_freq = sorted(freq.items(), key=operator.itemgetter(1),reverse=True)"
   ]
  },
  {
   "cell_type": "code",
   "execution_count": 19,
   "metadata": {},
   "outputs": [
    {
     "name": "stdout",
     "output_type": "stream",
     "text": [
      "[(u'the', 581), (u'#', 501), (u'a', 368), (u'to', 237), (u'and', 224), (u'of', 200), (u'you', 189), (u'is', 146), (u'Beautiful', 145), (u'in', 145), (u'=', 133), (u'Soup', 129), (u'that', 128), (u'tag', 123), (u'class=\"sister\"', 109), (u'<a', 92), (u'can', 92), (u'The', 90), (u'it', 89), (u'for', 84), (u'or', 84), (u'If', 81), (u'as', 79), (u'document', 74), (u\"Dormouse's\", 61), (u'but', 60), (u'with', 59), (u'You', 59), (u'an', 57), (u'string', 55)]\n"
     ]
    }
   ],
   "source": [
    "print(sorted_freq[:30])"
   ]
  },
  {
   "cell_type": "markdown",
   "metadata": {},
   "source": [
    "## Using NLTK"
   ]
  },
  {
   "cell_type": "code",
   "execution_count": 20,
   "metadata": {
    "collapsed": true
   },
   "outputs": [],
   "source": [
    "freq_nltk = nltk.FreqDist(tokens)"
   ]
  },
  {
   "cell_type": "code",
   "execution_count": 21,
   "metadata": {},
   "outputs": [
    {
     "name": "stdout",
     "output_type": "stream",
     "text": [
      "<FreqDist with 3059 samples and 13492 outcomes>\n"
     ]
    }
   ],
   "source": [
    "print(freq_nltk)"
   ]
  },
  {
   "cell_type": "code",
   "execution_count": 22,
   "metadata": {},
   "outputs": [
    {
     "data": {
      "text/plain": [
       "[(u'the', 581),\n",
       " (u'#', 501),\n",
       " (u'a', 368),\n",
       " (u'to', 237),\n",
       " (u'and', 224),\n",
       " (u'of', 200),\n",
       " (u'you', 189),\n",
       " (u'is', 146),\n",
       " (u'Beautiful', 145),\n",
       " (u'in', 145),\n",
       " (u'=', 133),\n",
       " (u'Soup', 129),\n",
       " (u'that', 128),\n",
       " (u'tag', 123),\n",
       " (u'class=\"sister\"', 109),\n",
       " (u'<a', 92),\n",
       " (u'can', 92),\n",
       " (u'The', 90),\n",
       " (u'it', 89),\n",
       " (u'for', 84)]"
      ]
     },
     "execution_count": 22,
     "metadata": {},
     "output_type": "execute_result"
    }
   ],
   "source": [
    "freq_nltk.most_common(20)"
   ]
  },
  {
   "cell_type": "code",
   "execution_count": 23,
   "metadata": {},
   "outputs": [
    {
     "data": {
      "text/plain": [
       "145"
      ]
     },
     "execution_count": 23,
     "metadata": {},
     "output_type": "execute_result"
    }
   ],
   "source": [
    "freq_nltk['Beautiful']"
   ]
  },
  {
   "cell_type": "markdown",
   "metadata": {},
   "source": [
    "## Plotting the frequency:"
   ]
  },
  {
   "cell_type": "code",
   "execution_count": 24,
   "metadata": {},
   "outputs": [
    {
     "data": {
      "image/png": "[encoded data removed]",
      "text/plain": [
       "<matplotlib.figure.Figure at 0xc07eb70>"
      ]
     },
     "metadata": {},
     "output_type": "display_data"
    }
   ],
   "source": [
    "freq_nltk.plot(25, cumulative=True)"
   ]
  },
  {
   "cell_type": "code",
   "execution_count": 25,
   "metadata": {},
   "outputs": [
    {
     "data": {
      "image/png": "[encoded data removed]",
      "text/plain": [
       "<matplotlib.figure.Figure at 0xd1b9c88>"
      ]
     },
     "metadata": {},
     "output_type": "display_data"
    }
   ],
   "source": [
    "freq_nltk.plot(25, cumulative=False)"
   ]
  },
  {
   "cell_type": "markdown",
   "metadata": {},
   "source": [
    "## Removing stop words: "
   ]
  },
  {
   "cell_type": "code",
   "execution_count": 26,
   "metadata": {},
   "outputs": [],
   "source": [
    "#Stop words are useless words like the, a, in, an, or and so on.\n",
    "stopwords = [word.strip().lower() for word in open(\"../Data/ENstopwords.txt\")]"
   ]
  },
  {
   "cell_type": "code",
   "execution_count": 27,
   "metadata": {
    "collapsed": true
   },
   "outputs": [],
   "source": [
    "clean_ = [t for t in tokens if len(t.lower())>1 and (t.lower() not in stopwords)]"
   ]
  },
  {
   "cell_type": "code",
   "execution_count": 28,
   "metadata": {
    "collapsed": true
   },
   "outputs": [],
   "source": [
    "_freq_nltk = nltk.FreqDist(clean_)"
   ]
  },
  {
   "cell_type": "code",
   "execution_count": 29,
   "metadata": {},
   "outputs": [
    {
     "data": {
      "image/png": "[encoded data removed]",
      "text/plain": [
       "<matplotlib.figure.Figure at 0x6afc630>"
      ]
     },
     "metadata": {},
     "output_type": "display_data"
    }
   ],
   "source": [
    "_freq_nltk.plot(25, cumulative=False)"
   ]
  },
  {
   "cell_type": "code",
   "execution_count": 30,
   "metadata": {},
   "outputs": [
    {
     "data": {
      "text/plain": [
       "[(u'Beautiful', 145),\n",
       " (u'Soup', 129),\n",
       " (u'tag', 123),\n",
       " (u'class=\"sister\"', 109),\n",
       " (u'<a', 92),\n",
       " (u'document', 74),\n",
       " (u\"Dormouse's\", 61),\n",
       " (u'string', 55),\n",
       " (u'will', 49),\n",
       " (u'Python', 46),\n",
       " (u'use', 46),\n",
       " (u'HTML', 45),\n",
       " (u'BeautifulSoup', 43),\n",
       " (u'parser', 43),\n",
       " (u'href=\"http://example.com/elsie\"', 42),\n",
       " (u'soup', 37),\n",
       " (u'href=\"http://example.com/lacie\"', 36),\n",
       " (u'tags', 35),\n",
       " (u'[<a', 34),\n",
       " (u'like', 34)]"
      ]
     },
     "execution_count": 30,
     "metadata": {},
     "output_type": "execute_result"
    }
   ],
   "source": [
    "_freq_nltk.most_common(20)"
   ]
  },
  {
   "cell_type": "markdown",
   "metadata": {},
   "source": [
    "## Reference: \n",
    "http://www.nltk.org/\n",
    "\n",
    "http://www.nltk.org/nltk_data/\n",
    "\n",
    "https://www.crummy.com/software/BeautifulSoup/bs4/doc/"
   ]
  }
 ],
 "metadata": {
  "kernelspec": {
   "display_name": "Python [conda root]",
   "language": "python",
   "name": "conda-root-py"
  },
  "language_info": {
   "codemirror_mode": {
    "name": "ipython",
    "version": 2
   },
   "file_extension": ".py",
   "mimetype": "text/x-python",
   "name": "python",
   "nbconvert_exporter": "python",
   "pygments_lexer": "ipython2",
   "version": "2.7.13"
  }
 },
 "nbformat": 4,
 "nbformat_minor": 2
}
